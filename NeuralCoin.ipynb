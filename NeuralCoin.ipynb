{
 "cells": [
  {
   "cell_type": "code",
   "execution_count": 18,
   "id": "8124685d",
   "metadata": {},
   "outputs": [],
   "source": [
    "import hashlib\n"
   ]
  },
  {
   "cell_type": "code",
   "execution_count": 19,
   "id": "6c9d2a1c",
   "metadata": {},
   "outputs": [
    {
     "name": "stdout",
     "output_type": "stream",
     "text": [
      " A sends 2 NC to B-C sends 4.4 NC to B-\n",
      " Initial String\n",
      "4484ff8e650d3505060b6e9dde7c68e031c3012b60b32289f6af321e37c7bc05\n"
     ]
    }
   ],
   "source": [
    "class NeuralCoinBlock:\n",
    "    \n",
    "    def __init__(self, previous_block_hash, transaction_list):\n",
    "        \n",
    "        self.previous_block_hash = previous_block_hash\n",
    "        self.transaction_list = transaction_list\n",
    "        \n",
    "        self.block_data = \"-\".join(transaction_list) + \"-\" + previous_block_hash\n",
    "        self.block_hash = hashlib.sha256(self.block_data.encode()).hexdigest()\n",
    "        \n",
    "t1 = \" A sends 2 NC to B\"\n",
    "t2 = \"C sends 4.4 NC to B\"\n",
    "t3 = \" B sends 3.2 NC to C\"\n",
    "t4 = \"D sends 0.3 NC to A\"\n",
    "t5 = \"B sends 1 NC to E\"\n",
    "t6 = \"B sends 5.4 NC to D\"\n",
    "\n",
    "initial_block = NeuralCoinBlock(\"\\n Initial String\", [t1, t2])\n",
    "\n",
    "print(initial_block.block_data)\n",
    "print(initial_block.block_hash)"
   ]
  },
  {
   "cell_type": "code",
   "execution_count": 20,
   "id": "0e76f1d8",
   "metadata": {},
   "outputs": [
    {
     "name": "stdout",
     "output_type": "stream",
     "text": [
      " B sends 3.2 NC to C-D sends 0.3 NC to A-4484ff8e650d3505060b6e9dde7c68e031c3012b60b32289f6af321e37c7bc05\n",
      "a953741704fd5a092de7a94f95ad7a6f28a5502f99d55c314fb38e59309637c3\n"
     ]
    }
   ],
   "source": [
    "second_block = NeuralCoinBlock(initial_block.block_hash, [t3, t4])\n",
    "print(second_block.block_data)\n",
    "print(second_block.block_hash)"
   ]
  },
  {
   "cell_type": "code",
   "execution_count": 21,
   "id": "9cf32a75",
   "metadata": {},
   "outputs": [
    {
     "name": "stdout",
     "output_type": "stream",
     "text": [
      "B sends 1 NC to E-B sends 5.4 NC to D-a953741704fd5a092de7a94f95ad7a6f28a5502f99d55c314fb38e59309637c3\n",
      "34c03c70ed59d07cd52db45ff5995184036ada33350dd7315d804a7186e12f7c\n"
     ]
    }
   ],
   "source": [
    "third_block = NeuralCoinBlock(second_block.block_hash, [t5, t6])\n",
    "print(third_block.block_data)\n",
    "print(third_block.block_hash)"
   ]
  },
  {
   "cell_type": "code",
   "execution_count": null,
   "id": "416b2cd8",
   "metadata": {},
   "outputs": [],
   "source": []
  }
 ],
 "metadata": {
  "kernelspec": {
   "display_name": "Python 3 (ipykernel)",
   "language": "python",
   "name": "python3"
  },
  "language_info": {
   "codemirror_mode": {
    "name": "ipython",
    "version": 3
   },
   "file_extension": ".py",
   "mimetype": "text/x-python",
   "name": "python",
   "nbconvert_exporter": "python",
   "pygments_lexer": "ipython3",
   "version": "3.11.2"
  }
 },
 "nbformat": 4,
 "nbformat_minor": 5
}
